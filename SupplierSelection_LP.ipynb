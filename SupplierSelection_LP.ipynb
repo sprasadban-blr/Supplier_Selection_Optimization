{
 "cells": [
  {
   "cell_type": "code",
   "execution_count": 57,
   "metadata": {},
   "outputs": [],
   "source": [
    "import pandas as pd\n",
    "import pulp as p\n",
    "import pickle"
   ]
  },
  {
   "cell_type": "code",
   "execution_count": 58,
   "metadata": {},
   "outputs": [
    {
     "data": {
      "text/html": [
       "<div>\n",
       "<style scoped>\n",
       "    .dataframe tbody tr th:only-of-type {\n",
       "        vertical-align: middle;\n",
       "    }\n",
       "\n",
       "    .dataframe tbody tr th {\n",
       "        vertical-align: top;\n",
       "    }\n",
       "\n",
       "    .dataframe thead th {\n",
       "        text-align: right;\n",
       "    }\n",
       "</style>\n",
       "<table border=\"1\" class=\"dataframe\">\n",
       "  <thead>\n",
       "    <tr style=\"text-align: right;\">\n",
       "      <th></th>\n",
       "      <th>Unnamed: 0</th>\n",
       "      <th>ItemId</th>\n",
       "      <th>CommodityId</th>\n",
       "      <th>SupplierId</th>\n",
       "      <th>Quantity</th>\n",
       "      <th>Quoted_Price</th>\n",
       "      <th>ExtendedPrice</th>\n",
       "      <th>ScaledQuotedPrice</th>\n",
       "      <th>Quality</th>\n",
       "      <th>Timeliness</th>\n",
       "    </tr>\n",
       "  </thead>\n",
       "  <tbody>\n",
       "    <tr>\n",
       "      <th>0</th>\n",
       "      <td>0</td>\n",
       "      <td>1899326</td>\n",
       "      <td>432118</td>\n",
       "      <td>SUPPLIERRPC04</td>\n",
       "      <td>100</td>\n",
       "      <td>85</td>\n",
       "      <td>850</td>\n",
       "      <td>10.0</td>\n",
       "      <td>5.0</td>\n",
       "      <td>9.0</td>\n",
       "    </tr>\n",
       "    <tr>\n",
       "      <th>1</th>\n",
       "      <td>1</td>\n",
       "      <td>1899326</td>\n",
       "      <td>432118</td>\n",
       "      <td>SUPPLIERRPC06</td>\n",
       "      <td>100</td>\n",
       "      <td>92</td>\n",
       "      <td>920</td>\n",
       "      <td>3.7</td>\n",
       "      <td>5.0</td>\n",
       "      <td>9.0</td>\n",
       "    </tr>\n",
       "    <tr>\n",
       "      <th>2</th>\n",
       "      <td>2</td>\n",
       "      <td>1899326</td>\n",
       "      <td>432118</td>\n",
       "      <td>SUPPLIERRPC05</td>\n",
       "      <td>100</td>\n",
       "      <td>95</td>\n",
       "      <td>950</td>\n",
       "      <td>1.0</td>\n",
       "      <td>9.0</td>\n",
       "      <td>6.0</td>\n",
       "    </tr>\n",
       "  </tbody>\n",
       "</table>\n",
       "</div>"
      ],
      "text/plain": [
       "   Unnamed: 0   ItemId  CommodityId     SupplierId  Quantity  Quoted_Price  \\\n",
       "0           0  1899326       432118  SUPPLIERRPC04       100            85   \n",
       "1           1  1899326       432118  SUPPLIERRPC06       100            92   \n",
       "2           2  1899326       432118  SUPPLIERRPC05       100            95   \n",
       "\n",
       "   ExtendedPrice  ScaledQuotedPrice  Quality  Timeliness  \n",
       "0            850               10.0      5.0         9.0  \n",
       "1            920                3.7      5.0         9.0  \n",
       "2            950                1.0      9.0         6.0  "
      ]
     },
     "execution_count": 58,
     "metadata": {},
     "output_type": "execute_result"
    }
   ],
   "source": [
    "bids = pd.read_csv('./output/bidding_supplier_characteristics_prediction.csv')\n",
    "bids"
   ]
  },
  {
   "cell_type": "code",
   "execution_count": 59,
   "metadata": {},
   "outputs": [
    {
     "data": {
      "text/plain": [
       "Supplier_Optimization:\n",
       "MAXIMIZE\n",
       "None\n",
       "VARIABLES"
      ]
     },
     "execution_count": 59,
     "metadata": {},
     "output_type": "execute_result"
    }
   ],
   "source": [
    "'''\n",
    " Item selected in UI\n",
    " Qty is bid quantity\n",
    " Price entered in UI\n",
    " Call prediction for a item/price to get supplier characteristics\n",
    "'''\n",
    "problem = p.LpProblem(name='Supplier_Optimization', sense=p.LpMaximize)\n",
    "problem"
   ]
  },
  {
   "cell_type": "code",
   "execution_count": 60,
   "metadata": {},
   "outputs": [
    {
     "data": {
      "text/plain": [
       "{'SUPPLIERRPC04': _SUPPLIERRPC04,\n",
       " 'SUPPLIERRPC06': _SUPPLIERRPC06,\n",
       " 'SUPPLIERRPC05': _SUPPLIERRPC05}"
      ]
     },
     "execution_count": 60,
     "metadata": {},
     "output_type": "execute_result"
    }
   ],
   "source": [
    "# Decision Variables\n",
    "suppliers = p.LpVariable.dicts(\"\", bids['SupplierId'], cat='Integer', lowBound=0, upBound=100)\n",
    "suppliers"
   ]
  },
  {
   "cell_type": "code",
   "execution_count": 61,
   "metadata": {},
   "outputs": [
    {
     "data": {
      "text/plain": [
       "10.0*_SUPPLIERRPC04 + 1.0*_SUPPLIERRPC05 + 3.7*_SUPPLIERRPC06 + 0.0"
      ]
     },
     "execution_count": 61,
     "metadata": {},
     "output_type": "execute_result"
    }
   ],
   "source": [
    "# Optimization function\n",
    "priceProblem = p.lpSum(suppliers[bids['SupplierId'][i]] * bids['ScaledQuotedPrice'][i] for i in range(bids['SupplierId'].count()))\n",
    "priceProblem"
   ]
  },
  {
   "cell_type": "code",
   "execution_count": 62,
   "metadata": {},
   "outputs": [
    {
     "name": "stdout",
     "output_type": "stream",
     "text": [
      "5.0*_SUPPLIERRPC04 + 9.0*_SUPPLIERRPC05 + 5.0*_SUPPLIERRPC06\n"
     ]
    }
   ],
   "source": [
    "#Call prediction for each supplier to get quality and timeliness\n",
    "qualityProblem = p.lpSum(suppliers[bids['SupplierId'][i]] * bids['Quality'][i] for i in range(bids['SupplierId'].count()))\n",
    "print(qualityProblem)\n"
   ]
  },
  {
   "cell_type": "code",
   "execution_count": 63,
   "metadata": {},
   "outputs": [
    {
     "name": "stdout",
     "output_type": "stream",
     "text": [
      "9.0*_SUPPLIERRPC04 + 6.0*_SUPPLIERRPC05 + 9.0*_SUPPLIERRPC06\n"
     ]
    }
   ],
   "source": [
    "timelinessProblem =  p.lpSum(suppliers[bids['SupplierId'][i]] * bids['Timeliness'][i] for i in range(bids['SupplierId'].count()))\n",
    "print(timelinessProblem)"
   ]
  },
  {
   "cell_type": "code",
   "execution_count": 64,
   "metadata": {},
   "outputs": [
    {
     "data": {
      "text/plain": [
       "Supplier_Optimization:\n",
       "MAXIMIZE\n",
       "8.020000000000001*_SUPPLIERRPC04 + 5.29*_SUPPLIERRPC05 + 5.878*_SUPPLIERRPC06 + 0.0\n",
       "VARIABLES\n",
       "0 <= _SUPPLIERRPC04 <= 100 Integer\n",
       "0 <= _SUPPLIERRPC05 <= 100 Integer\n",
       "0 <= _SUPPLIERRPC06 <= 100 Integer"
      ]
     },
     "execution_count": 64,
     "metadata": {},
     "output_type": "execute_result"
    }
   ],
   "source": [
    "weightage_price = 0.34\n",
    "weightage_quality = 0.33\n",
    "weightage_timeliness = 0.33\n",
    "\n",
    "problem += (weightage_price * priceProblem) + (weightage_quality * qualityProblem) + (weightage_timeliness * timelinessProblem)\n",
    "problem"
   ]
  },
  {
   "cell_type": "code",
   "execution_count": 65,
   "metadata": {},
   "outputs": [
    {
     "data": {
      "text/plain": [
       "Supplier_Optimization:\n",
       "MAXIMIZE\n",
       "8.020000000000001*_SUPPLIERRPC04 + 5.29*_SUPPLIERRPC05 + 5.878*_SUPPLIERRPC06 + 0.0\n",
       "SUBJECT TO\n",
       "_C1: _SUPPLIERRPC04 + _SUPPLIERRPC05 + _SUPPLIERRPC06 = 150\n",
       "\n",
       "VARIABLES\n",
       "0 <= _SUPPLIERRPC04 <= 100 Integer\n",
       "0 <= _SUPPLIERRPC05 <= 100 Integer\n",
       "0 <= _SUPPLIERRPC06 <= 100 Integer"
      ]
     },
     "execution_count": 65,
     "metadata": {},
     "output_type": "execute_result"
    }
   ],
   "source": [
    "# Constraints\n",
    "# Required Quantity\n",
    "problem += p.lpSum(suppliers[bids['SupplierId'][i]] for i in range(bids['SupplierId'].count())) == 150\n",
    "\n",
    "problem"
   ]
  },
  {
   "cell_type": "code",
   "execution_count": 66,
   "metadata": {},
   "outputs": [
    {
     "name": "stdout",
     "output_type": "stream",
     "text": [
      "\n"
     ]
    }
   ],
   "source": [
    "'''\n",
    "exp_price = 97\n",
    "exp_quality = 5\n",
    "exp_timeliness = 6\n",
    "'''\n",
    "print(\"\")"
   ]
  },
  {
   "cell_type": "code",
   "execution_count": 67,
   "metadata": {},
   "outputs": [
    {
     "name": "stdout",
     "output_type": "stream",
     "text": [
      "\n"
     ]
    }
   ],
   "source": [
    "'''\n",
    "if (weightage_price > 0):\n",
    "    problem += p.lpSum(suppliers[bids['SupplierId'][i]] * bids['ScaledQuotedPrice'][i] for i in range(bids['SupplierId'].count())) <= exp_price\n",
    "    print(problem)\n",
    "'''\n",
    "print(\"\")"
   ]
  },
  {
   "cell_type": "code",
   "execution_count": 68,
   "metadata": {},
   "outputs": [
    {
     "name": "stdout",
     "output_type": "stream",
     "text": [
      "\n"
     ]
    }
   ],
   "source": [
    "'''\n",
    "if (weightage_quality > 0):\n",
    "    problem += p.lpSum(suppliers[bids['SupplierId'][i]] * bids['Quality'][i] for i in range(bids['SupplierId'].count())) >= exp_quality\n",
    "    print(problem)\n",
    "'''\n",
    "print(\"\")"
   ]
  },
  {
   "cell_type": "code",
   "execution_count": 69,
   "metadata": {},
   "outputs": [
    {
     "name": "stdout",
     "output_type": "stream",
     "text": [
      "\n"
     ]
    }
   ],
   "source": [
    "'''\n",
    "if (weightage_timeliness > 0):\n",
    "    problem += p.lpSum(suppliers[bids['SupplierId'][i]] * bids['Timeliness'][i] for i in range(bids['SupplierId'].count())) >= exp_timeliness\n",
    "    print(problem)\n",
    "'''\n",
    "print(\"\")"
   ]
  },
  {
   "cell_type": "code",
   "execution_count": 70,
   "metadata": {},
   "outputs": [
    {
     "name": "stdout",
     "output_type": "stream",
     "text": [
      "Welcome to the CBC MILP Solver \n",
      "Version: 2.10.3 \n",
      "Build Date: Dec 15 2019 \n",
      "\n",
      "command line - /Library/Frameworks/Python.framework/Versions/3.10/lib/python3.10/site-packages/pulp/apis/../solverdir/cbc/osx/64/cbc /var/folders/t4/204xh5g57vv3c7mjndmh4y7r0000gn/T/bc5b389d727249ea8e32875e94d0aa1a-pulp.mps max timeMode elapsed branch printingOptions all solution /var/folders/t4/204xh5g57vv3c7mjndmh4y7r0000gn/T/bc5b389d727249ea8e32875e94d0aa1a-pulp.sol (default strategy 1)\n",
      "At line 2 NAME          MODEL\n",
      "At line 3 ROWS\n",
      "At line 6 COLUMNS\n",
      "At line 19 RHS\n",
      "At line 21 BOUNDS\n",
      "At line 25 ENDATA\n",
      "Problem MODEL has 1 rows, 3 columns and 3 elements\n",
      "Coin0008I MODEL read with 0 errors\n",
      "Option for timeMode changed from cpu to elapsed\n",
      "Continuous objective value is 1095.9 - 0.00 seconds\n",
      "Cgl0004I processed model has 1 rows, 3 columns (3 integer (0 of which binary)) and 3 elements\n",
      "Cutoff increment increased from 1e-05 to 0.001998\n",
      "Cbc0012I Integer solution of -1095.9 found by DiveCoefficient after 0 iterations and 0 nodes (0.01 seconds)\n",
      "Cbc0001I Search completed - best objective -1095.9, took 0 iterations and 0 nodes (0.01 seconds)\n",
      "Cbc0035I Maximum depth 0, 0 variables fixed on reduced cost\n",
      "Cuts at root node changed objective from -1095.9 to -1095.9\n",
      "Probing was tried 0 times and created 0 cuts of which 0 were active after adding rounds of cuts (0.000 seconds)\n",
      "Gomory was tried 0 times and created 0 cuts of which 0 were active after adding rounds of cuts (0.000 seconds)\n",
      "Knapsack was tried 0 times and created 0 cuts of which 0 were active after adding rounds of cuts (0.000 seconds)\n",
      "Clique was tried 0 times and created 0 cuts of which 0 were active after adding rounds of cuts (0.000 seconds)\n",
      "MixedIntegerRounding2 was tried 0 times and created 0 cuts of which 0 were active after adding rounds of cuts (0.000 seconds)\n",
      "FlowCover was tried 0 times and created 0 cuts of which 0 were active after adding rounds of cuts (0.000 seconds)\n",
      "TwoMirCuts was tried 0 times and created 0 cuts of which 0 were active after adding rounds of cuts (0.000 seconds)\n",
      "ZeroHalf was tried 0 times and created 0 cuts of which 0 were active after adding rounds of cuts (0.000 seconds)\n",
      "\n",
      "Result - Optimal solution found\n",
      "\n",
      "Objective value:                1095.90000000\n",
      "Enumerated nodes:               0\n",
      "Total iterations:               0\n",
      "Time (CPU seconds):             0.00\n",
      "Time (Wallclock seconds):       0.01\n",
      "\n",
      "Option for printingOptions changed from normal to all\n",
      "Total time (CPU seconds):       0.00   (Wallclock seconds):       0.03\n",
      "\n",
      "Status: Optimal\n",
      "_SUPPLIERRPC04 = 100.0\n",
      "_SUPPLIERRPC05 = 0.0\n",
      "_SUPPLIERRPC06 = 50.0\n",
      "Quoted Price :  1095.9\n",
      "Optimal value for supplier's '{'SUPPLIERRPC04': 100.0, 'SUPPLIERRPC05': 0.0, 'SUPPLIERRPC06': 50.0}' and the optimized objective function value is 1095.9\n"
     ]
    }
   ],
   "source": [
    "# Solve problem\n",
    "problem.solve()\n",
    "\n",
    "# Print status\n",
    "status = p.LpStatus[problem.status]\n",
    "print(\"Status:\", status)\n",
    "\n",
    "# Print optimal values of decision variables\n",
    "\n",
    "supplier = {}\n",
    "selectedSupplier = \"\"\n",
    "for v in problem.variables():\n",
    "    print(v.name, \"=\", v.varValue)\n",
    "    supplier[v.name.replace(\"_\", \"\")] = v.varValue\n",
    "    if v.varValue is not None and v.varValue > 0:\n",
    "        selectedSupplier = v.name\n",
    "quotedPrice = p.value(problem.objective)\n",
    "print(\"Quoted Price : \", quotedPrice)\n",
    "\n",
    "print(\"Optimal value for supplier's \" + \"'\" + str(supplier) + \"' and the optimized objective function value is \" + str(quotedPrice))"
   ]
  },
  {
   "cell_type": "code",
   "execution_count": 71,
   "metadata": {},
   "outputs": [
    {
     "data": {
      "text/html": [
       "<div>\n",
       "<style scoped>\n",
       "    .dataframe tbody tr th:only-of-type {\n",
       "        vertical-align: middle;\n",
       "    }\n",
       "\n",
       "    .dataframe tbody tr th {\n",
       "        vertical-align: top;\n",
       "    }\n",
       "\n",
       "    .dataframe thead th {\n",
       "        text-align: right;\n",
       "    }\n",
       "</style>\n",
       "<table border=\"1\" class=\"dataframe\">\n",
       "  <thead>\n",
       "    <tr style=\"text-align: right;\">\n",
       "      <th></th>\n",
       "      <th>Unnamed: 0</th>\n",
       "      <th>ItemId</th>\n",
       "      <th>CommodityId</th>\n",
       "      <th>SupplierId</th>\n",
       "      <th>Quantity</th>\n",
       "      <th>Quoted_Price</th>\n",
       "      <th>ExtendedPrice</th>\n",
       "      <th>ScaledQuotedPrice</th>\n",
       "      <th>Quality</th>\n",
       "      <th>Timeliness</th>\n",
       "    </tr>\n",
       "  </thead>\n",
       "  <tbody>\n",
       "    <tr>\n",
       "      <th>0</th>\n",
       "      <td>0</td>\n",
       "      <td>1899326</td>\n",
       "      <td>432118</td>\n",
       "      <td>SUPPLIERRPC04</td>\n",
       "      <td>100</td>\n",
       "      <td>85</td>\n",
       "      <td>850</td>\n",
       "      <td>10.0</td>\n",
       "      <td>5.0</td>\n",
       "      <td>9.0</td>\n",
       "    </tr>\n",
       "    <tr>\n",
       "      <th>1</th>\n",
       "      <td>1</td>\n",
       "      <td>1899326</td>\n",
       "      <td>432118</td>\n",
       "      <td>SUPPLIERRPC06</td>\n",
       "      <td>100</td>\n",
       "      <td>92</td>\n",
       "      <td>920</td>\n",
       "      <td>3.7</td>\n",
       "      <td>5.0</td>\n",
       "      <td>9.0</td>\n",
       "    </tr>\n",
       "    <tr>\n",
       "      <th>2</th>\n",
       "      <td>2</td>\n",
       "      <td>1899326</td>\n",
       "      <td>432118</td>\n",
       "      <td>SUPPLIERRPC05</td>\n",
       "      <td>100</td>\n",
       "      <td>95</td>\n",
       "      <td>950</td>\n",
       "      <td>1.0</td>\n",
       "      <td>9.0</td>\n",
       "      <td>6.0</td>\n",
       "    </tr>\n",
       "  </tbody>\n",
       "</table>\n",
       "</div>"
      ],
      "text/plain": [
       "   Unnamed: 0   ItemId  CommodityId     SupplierId  Quantity  Quoted_Price  \\\n",
       "0           0  1899326       432118  SUPPLIERRPC04       100            85   \n",
       "1           1  1899326       432118  SUPPLIERRPC06       100            92   \n",
       "2           2  1899326       432118  SUPPLIERRPC05       100            95   \n",
       "\n",
       "   ExtendedPrice  ScaledQuotedPrice  Quality  Timeliness  \n",
       "0            850               10.0      5.0         9.0  \n",
       "1            920                3.7      5.0         9.0  \n",
       "2            950                1.0      9.0         6.0  "
      ]
     },
     "execution_count": 71,
     "metadata": {},
     "output_type": "execute_result"
    }
   ],
   "source": [
    "bids"
   ]
  },
  {
   "cell_type": "code",
   "execution_count": 74,
   "metadata": {},
   "outputs": [
    {
     "name": "stdout",
     "output_type": "stream",
     "text": [
      "SUPPLIERRPC04, 100.0, 85, 8500.0\n",
      "SUPPLIERRPC06, 50.0, 92, 13100.0\n",
      "Total Amount = 13100.0\n"
     ]
    },
    {
     "data": {
      "text/html": [
       "<div>\n",
       "<style scoped>\n",
       "    .dataframe tbody tr th:only-of-type {\n",
       "        vertical-align: middle;\n",
       "    }\n",
       "\n",
       "    .dataframe tbody tr th {\n",
       "        vertical-align: top;\n",
       "    }\n",
       "\n",
       "    .dataframe thead th {\n",
       "        text-align: right;\n",
       "    }\n",
       "</style>\n",
       "<table border=\"1\" class=\"dataframe\">\n",
       "  <thead>\n",
       "    <tr style=\"text-align: right;\">\n",
       "      <th></th>\n",
       "      <th>Supplier</th>\n",
       "      <th>Alloted Quantity</th>\n",
       "      <th>Quoted Price</th>\n",
       "      <th>Extended Price</th>\n",
       "    </tr>\n",
       "  </thead>\n",
       "  <tbody>\n",
       "    <tr>\n",
       "      <th>0</th>\n",
       "      <td>SUPPLIERRPC04</td>\n",
       "      <td>100.0</td>\n",
       "      <td>85</td>\n",
       "      <td>8500.0</td>\n",
       "    </tr>\n",
       "    <tr>\n",
       "      <th>1</th>\n",
       "      <td>SUPPLIERRPC06</td>\n",
       "      <td>50.0</td>\n",
       "      <td>92</td>\n",
       "      <td>4600.0</td>\n",
       "    </tr>\n",
       "    <tr>\n",
       "      <th>2</th>\n",
       "      <td>Total</td>\n",
       "      <td>150.0</td>\n",
       "      <td></td>\n",
       "      <td>13100.0</td>\n",
       "    </tr>\n",
       "  </tbody>\n",
       "</table>\n",
       "</div>"
      ],
      "text/plain": [
       "        Supplier  Alloted Quantity Quoted Price  Extended Price\n",
       "0  SUPPLIERRPC04             100.0           85          8500.0\n",
       "1  SUPPLIERRPC06              50.0           92          4600.0\n",
       "2          Total             150.0                      13100.0"
      ]
     },
     "execution_count": 74,
     "metadata": {},
     "output_type": "execute_result"
    }
   ],
   "source": [
    "row = 0\n",
    "allottedSuppliers = pd.DataFrame(columns=['Supplier', 'Alloted Quantity', 'Quoted Price', 'Extended Price'])\n",
    "\n",
    "totalAmount = 0.0\n",
    "totalAllotedQty = 0.0\n",
    "for key in supplier:\n",
    "    supplierKey = key\n",
    "    alloted_qty = supplier[key]\n",
    "    if(alloted_qty > 0):\n",
    "        supplierBidsData = bids.query('SupplierId == \"'+key+'\"')\n",
    "        quoted_price = supplierBidsData['Quoted_Price'].unique()[0]\n",
    "        extendedPrice = alloted_qty * quoted_price\n",
    "        totalAmount = totalAmount + extendedPrice\n",
    "        totalAllotedQty = totalAllotedQty + alloted_qty\n",
    "        print(supplierKey + \", \" + str(alloted_qty) + \", \" + str(quoted_price) + \", \" + str(totalAmount))\n",
    "        allottedSuppliers.loc[row] = [supplierKey, alloted_qty, quoted_price, extendedPrice]\n",
    "        row = row + 1\n",
    "allottedSuppliers.loc[row] = ['Total', totalAllotedQty, '', totalAmount]\n",
    "print(\"Total Amount = \"+ str(totalAmount))\n",
    "allottedSuppliers"
   ]
  },
  {
   "cell_type": "code",
   "execution_count": null,
   "metadata": {},
   "outputs": [],
   "source": []
  }
 ],
 "metadata": {
  "kernelspec": {
   "display_name": "Python 3.10.7 64-bit",
   "language": "python",
   "name": "python3"
  },
  "language_info": {
   "codemirror_mode": {
    "name": "ipython",
    "version": 3
   },
   "file_extension": ".py",
   "mimetype": "text/x-python",
   "name": "python",
   "nbconvert_exporter": "python",
   "pygments_lexer": "ipython3",
   "version": "3.10.7"
  },
  "orig_nbformat": 4,
  "vscode": {
   "interpreter": {
    "hash": "aee8b7b246df8f9039afb4144a1f6fd8d2ca17a180786b69acc140d282b71a49"
   }
  }
 },
 "nbformat": 4,
 "nbformat_minor": 2
}
