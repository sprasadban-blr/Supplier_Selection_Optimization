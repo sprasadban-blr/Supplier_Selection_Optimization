{
 "cells": [
  {
   "cell_type": "code",
   "execution_count": 9,
   "metadata": {},
   "outputs": [],
   "source": [
    "import pandas as pd\n",
    "import pulp as p\n",
    "import pickle"
   ]
  },
  {
   "cell_type": "code",
   "execution_count": 10,
   "metadata": {},
   "outputs": [
    {
     "data": {
      "text/html": [
       "<div>\n",
       "<style scoped>\n",
       "    .dataframe tbody tr th:only-of-type {\n",
       "        vertical-align: middle;\n",
       "    }\n",
       "\n",
       "    .dataframe tbody tr th {\n",
       "        vertical-align: top;\n",
       "    }\n",
       "\n",
       "    .dataframe thead th {\n",
       "        text-align: right;\n",
       "    }\n",
       "</style>\n",
       "<table border=\"1\" class=\"dataframe\">\n",
       "  <thead>\n",
       "    <tr style=\"text-align: right;\">\n",
       "      <th></th>\n",
       "      <th>ItemId</th>\n",
       "      <th>CommodityId</th>\n",
       "      <th>SupplierId</th>\n",
       "      <th>Quantity</th>\n",
       "      <th>Quoted_Price</th>\n",
       "      <th>ExtendedPrice</th>\n",
       "    </tr>\n",
       "  </thead>\n",
       "  <tbody>\n",
       "    <tr>\n",
       "      <th>0</th>\n",
       "      <td>1899326</td>\n",
       "      <td>432118</td>\n",
       "      <td>SUPPLIERRPC04</td>\n",
       "      <td>100</td>\n",
       "      <td>85</td>\n",
       "      <td>850</td>\n",
       "    </tr>\n",
       "    <tr>\n",
       "      <th>1</th>\n",
       "      <td>1899326</td>\n",
       "      <td>432118</td>\n",
       "      <td>SUPPLIERRPC06</td>\n",
       "      <td>100</td>\n",
       "      <td>92</td>\n",
       "      <td>920</td>\n",
       "    </tr>\n",
       "    <tr>\n",
       "      <th>2</th>\n",
       "      <td>1899326</td>\n",
       "      <td>432118</td>\n",
       "      <td>SUPPLIERRPC05</td>\n",
       "      <td>100</td>\n",
       "      <td>95</td>\n",
       "      <td>950</td>\n",
       "    </tr>\n",
       "  </tbody>\n",
       "</table>\n",
       "</div>"
      ],
      "text/plain": [
       "    ItemId  CommodityId     SupplierId  Quantity  Quoted_Price  ExtendedPrice\n",
       "0  1899326       432118  SUPPLIERRPC04       100            85            850\n",
       "1  1899326       432118  SUPPLIERRPC06       100            92            920\n",
       "2  1899326       432118  SUPPLIERRPC05       100            95            950"
      ]
     },
     "execution_count": 10,
     "metadata": {},
     "output_type": "execute_result"
    }
   ],
   "source": [
    "bidDetails = pd.read_csv('./output/bids_details.csv')\n",
    "bidDetails"
   ]
  },
  {
   "cell_type": "code",
   "execution_count": 11,
   "metadata": {},
   "outputs": [
    {
     "name": "stdout",
     "output_type": "stream",
     "text": [
      "85\n",
      "95\n"
     ]
    }
   ],
   "source": [
    "# https://stats.stackexchange.com/questions/281162/scale-a-number-between-a-range\n",
    "minBidPrice = bidDetails['Quoted_Price'].min()\n",
    "print(minBidPrice)\n",
    "maxBidPrice = bidDetails['Quoted_Price'].max()\n",
    "print(maxBidPrice)"
   ]
  },
  {
   "cell_type": "code",
   "execution_count": 12,
   "metadata": {},
   "outputs": [],
   "source": [
    "minRange = 1.0\n",
    "maxRange = 10.0\n",
    "bidDetails['ScaledQuotedPrice'] = round((bidDetails['Quoted_Price'] - minBidPrice)/(maxBidPrice - minBidPrice) * (maxRange - minRange) + minRange, 2)"
   ]
  },
  {
   "cell_type": "code",
   "execution_count": 13,
   "metadata": {},
   "outputs": [
    {
     "data": {
      "text/html": [
       "<style>#sk-container-id-2 {color: black;background-color: white;}#sk-container-id-2 pre{padding: 0;}#sk-container-id-2 div.sk-toggleable {background-color: white;}#sk-container-id-2 label.sk-toggleable__label {cursor: pointer;display: block;width: 100%;margin-bottom: 0;padding: 0.3em;box-sizing: border-box;text-align: center;}#sk-container-id-2 label.sk-toggleable__label-arrow:before {content: \"▸\";float: left;margin-right: 0.25em;color: #696969;}#sk-container-id-2 label.sk-toggleable__label-arrow:hover:before {color: black;}#sk-container-id-2 div.sk-estimator:hover label.sk-toggleable__label-arrow:before {color: black;}#sk-container-id-2 div.sk-toggleable__content {max-height: 0;max-width: 0;overflow: hidden;text-align: left;background-color: #f0f8ff;}#sk-container-id-2 div.sk-toggleable__content pre {margin: 0.2em;color: black;border-radius: 0.25em;background-color: #f0f8ff;}#sk-container-id-2 input.sk-toggleable__control:checked~div.sk-toggleable__content {max-height: 200px;max-width: 100%;overflow: auto;}#sk-container-id-2 input.sk-toggleable__control:checked~label.sk-toggleable__label-arrow:before {content: \"▾\";}#sk-container-id-2 div.sk-estimator input.sk-toggleable__control:checked~label.sk-toggleable__label {background-color: #d4ebff;}#sk-container-id-2 div.sk-label input.sk-toggleable__control:checked~label.sk-toggleable__label {background-color: #d4ebff;}#sk-container-id-2 input.sk-hidden--visually {border: 0;clip: rect(1px 1px 1px 1px);clip: rect(1px, 1px, 1px, 1px);height: 1px;margin: -1px;overflow: hidden;padding: 0;position: absolute;width: 1px;}#sk-container-id-2 div.sk-estimator {font-family: monospace;background-color: #f0f8ff;border: 1px dotted black;border-radius: 0.25em;box-sizing: border-box;margin-bottom: 0.5em;}#sk-container-id-2 div.sk-estimator:hover {background-color: #d4ebff;}#sk-container-id-2 div.sk-parallel-item::after {content: \"\";width: 100%;border-bottom: 1px solid gray;flex-grow: 1;}#sk-container-id-2 div.sk-label:hover label.sk-toggleable__label {background-color: #d4ebff;}#sk-container-id-2 div.sk-serial::before {content: \"\";position: absolute;border-left: 1px solid gray;box-sizing: border-box;top: 0;bottom: 0;left: 50%;z-index: 0;}#sk-container-id-2 div.sk-serial {display: flex;flex-direction: column;align-items: center;background-color: white;padding-right: 0.2em;padding-left: 0.2em;position: relative;}#sk-container-id-2 div.sk-item {position: relative;z-index: 1;}#sk-container-id-2 div.sk-parallel {display: flex;align-items: stretch;justify-content: center;background-color: white;position: relative;}#sk-container-id-2 div.sk-item::before, #sk-container-id-2 div.sk-parallel-item::before {content: \"\";position: absolute;border-left: 1px solid gray;box-sizing: border-box;top: 0;bottom: 0;left: 50%;z-index: -1;}#sk-container-id-2 div.sk-parallel-item {display: flex;flex-direction: column;z-index: 1;position: relative;background-color: white;}#sk-container-id-2 div.sk-parallel-item:first-child::after {align-self: flex-end;width: 50%;}#sk-container-id-2 div.sk-parallel-item:last-child::after {align-self: flex-start;width: 50%;}#sk-container-id-2 div.sk-parallel-item:only-child::after {width: 0;}#sk-container-id-2 div.sk-dashed-wrapped {border: 1px dashed gray;margin: 0 0.4em 0.5em 0.4em;box-sizing: border-box;padding-bottom: 0.4em;background-color: white;}#sk-container-id-2 div.sk-label label {font-family: monospace;font-weight: bold;display: inline-block;line-height: 1.2em;}#sk-container-id-2 div.sk-label-container {text-align: center;}#sk-container-id-2 div.sk-container {/* jupyter's `normalize.less` sets `[hidden] { display: none; }` but bootstrap.min.css set `[hidden] { display: none !important; }` so we also need the `!important` here to be able to override the default hidden behavior on the sphinx rendered scikit-learn.org. See: https://github.com/scikit-learn/scikit-learn/issues/21755 */display: inline-block !important;position: relative;}#sk-container-id-2 div.sk-text-repr-fallback {display: none;}</style><div id=\"sk-container-id-2\" class=\"sk-top-container\"><div class=\"sk-text-repr-fallback\"><pre>DecisionTreeRegressor()</pre><b>In a Jupyter environment, please rerun this cell to show the HTML representation or trust the notebook. <br />On GitHub, the HTML representation is unable to render, please try loading this page with nbviewer.org.</b></div><div class=\"sk-container\" hidden><div class=\"sk-item\"><div class=\"sk-estimator sk-toggleable\"><input class=\"sk-toggleable__control sk-hidden--visually\" id=\"sk-estimator-id-2\" type=\"checkbox\" checked><label for=\"sk-estimator-id-2\" class=\"sk-toggleable__label sk-toggleable__label-arrow\">DecisionTreeRegressor</label><div class=\"sk-toggleable__content\"><pre>DecisionTreeRegressor()</pre></div></div></div></div></div>"
      ],
      "text/plain": [
       "DecisionTreeRegressor()"
      ]
     },
     "execution_count": 13,
     "metadata": {},
     "output_type": "execute_result"
    }
   ],
   "source": [
    "modelFile = open('./output/selected_ai_ml_model.mdl', 'rb')\n",
    "model = pickle.load(modelFile)\n",
    "modelFile.close()\n",
    "\n",
    "model"
   ]
  },
  {
   "cell_type": "code",
   "execution_count": 14,
   "metadata": {},
   "outputs": [
    {
     "data": {
      "text/plain": [
       "{'SUPPLIERRPC04': 10001, 'SUPPLIERRPC06': 10002, 'SUPPLIERRPC05': 10003}"
      ]
     },
     "execution_count": 14,
     "metadata": {},
     "output_type": "execute_result"
    }
   ],
   "source": [
    "supplierMapFile = open('./output/suppliermap.dict', 'rb')\n",
    "supplierMap = pickle.load(supplierMapFile)\n",
    "supplierMapFile.close()\n",
    "supplierMap"
   ]
  },
  {
   "cell_type": "code",
   "execution_count": 15,
   "metadata": {},
   "outputs": [
    {
     "name": "stdout",
     "output_type": "stream",
     "text": [
      "(SUPPLIERRPC04, 432118, 85)\n",
      "Quality = 5.0, Timeliness = 9.0\n",
      "------------------------------------------------------------------\n",
      "(SUPPLIERRPC06, 432118, 92)\n",
      "Quality = 5.0, Timeliness = 9.0\n",
      "------------------------------------------------------------------\n",
      "(SUPPLIERRPC05, 432118, 95)\n",
      "Quality = 9.0, Timeliness = 6.0\n",
      "------------------------------------------------------------------\n"
     ]
    },
    {
     "name": "stderr",
     "output_type": "stream",
     "text": [
      "/Library/Frameworks/Python.framework/Versions/3.10/lib/python3.10/site-packages/sklearn/base.py:450: UserWarning: X does not have valid feature names, but DecisionTreeRegressor was fitted with feature names\n",
      "  warnings.warn(\n",
      "/Library/Frameworks/Python.framework/Versions/3.10/lib/python3.10/site-packages/sklearn/base.py:450: UserWarning: X does not have valid feature names, but DecisionTreeRegressor was fitted with feature names\n",
      "  warnings.warn(\n",
      "/Library/Frameworks/Python.framework/Versions/3.10/lib/python3.10/site-packages/sklearn/base.py:450: UserWarning: X does not have valid feature names, but DecisionTreeRegressor was fitted with feature names\n",
      "  warnings.warn(\n"
     ]
    },
    {
     "data": {
      "text/html": [
       "<div>\n",
       "<style scoped>\n",
       "    .dataframe tbody tr th:only-of-type {\n",
       "        vertical-align: middle;\n",
       "    }\n",
       "\n",
       "    .dataframe tbody tr th {\n",
       "        vertical-align: top;\n",
       "    }\n",
       "\n",
       "    .dataframe thead th {\n",
       "        text-align: right;\n",
       "    }\n",
       "</style>\n",
       "<table border=\"1\" class=\"dataframe\">\n",
       "  <thead>\n",
       "    <tr style=\"text-align: right;\">\n",
       "      <th></th>\n",
       "      <th>ItemId</th>\n",
       "      <th>CommodityId</th>\n",
       "      <th>SupplierId</th>\n",
       "      <th>Quantity</th>\n",
       "      <th>Quoted_Price</th>\n",
       "      <th>ExtendedPrice</th>\n",
       "      <th>ScaledQuotedPrice</th>\n",
       "      <th>Quality</th>\n",
       "      <th>Timeliness</th>\n",
       "    </tr>\n",
       "  </thead>\n",
       "  <tbody>\n",
       "    <tr>\n",
       "      <th>0</th>\n",
       "      <td>1899326</td>\n",
       "      <td>432118</td>\n",
       "      <td>SUPPLIERRPC04</td>\n",
       "      <td>100</td>\n",
       "      <td>85</td>\n",
       "      <td>850</td>\n",
       "      <td>1.0</td>\n",
       "      <td>5.0</td>\n",
       "      <td>9.0</td>\n",
       "    </tr>\n",
       "    <tr>\n",
       "      <th>1</th>\n",
       "      <td>1899326</td>\n",
       "      <td>432118</td>\n",
       "      <td>SUPPLIERRPC06</td>\n",
       "      <td>100</td>\n",
       "      <td>92</td>\n",
       "      <td>920</td>\n",
       "      <td>7.3</td>\n",
       "      <td>5.0</td>\n",
       "      <td>9.0</td>\n",
       "    </tr>\n",
       "    <tr>\n",
       "      <th>2</th>\n",
       "      <td>1899326</td>\n",
       "      <td>432118</td>\n",
       "      <td>SUPPLIERRPC05</td>\n",
       "      <td>100</td>\n",
       "      <td>95</td>\n",
       "      <td>950</td>\n",
       "      <td>10.0</td>\n",
       "      <td>9.0</td>\n",
       "      <td>6.0</td>\n",
       "    </tr>\n",
       "  </tbody>\n",
       "</table>\n",
       "</div>"
      ],
      "text/plain": [
       "    ItemId  CommodityId     SupplierId  Quantity  Quoted_Price  ExtendedPrice  \\\n",
       "0  1899326       432118  SUPPLIERRPC04       100            85            850   \n",
       "1  1899326       432118  SUPPLIERRPC06       100            92            920   \n",
       "2  1899326       432118  SUPPLIERRPC05       100            95            950   \n",
       "\n",
       "   ScaledQuotedPrice  Quality  Timeliness  \n",
       "0                1.0      5.0         9.0  \n",
       "1                7.3      5.0         9.0  \n",
       "2               10.0      9.0         6.0  "
      ]
     },
     "execution_count": 15,
     "metadata": {},
     "output_type": "execute_result"
    }
   ],
   "source": [
    "for index, row in bidDetails.iterrows():\n",
    "    commodityId = row['CommodityId']\n",
    "    supplierId = supplierMap[row['SupplierId']]\n",
    "    price = row['Quoted_Price']\n",
    "    print(\"(\" + str(row['SupplierId']) + \", \" + str(commodityId) + \", \" + str(price) + \")\")\n",
    "    \n",
    "    bidData = pd.DataFrame([[supplierId, commodityId, price]])\n",
    "    predict_bid = model.predict(bidData)\n",
    "    \n",
    "    quality = predict_bid[0][0]\n",
    "    timeliness = predict_bid[0][1]\n",
    "    \n",
    "    print(\"Quality = \" + str(quality) + \", Timeliness = \" + str(timeliness))\n",
    "    print(\"------------------------------------------------------------------\")\n",
    "\n",
    "    bidDetails.at[index,'Quality'] = quality\n",
    "    bidDetails.at[index, 'Timeliness'] = timeliness\n",
    "\n",
    "bidDetails"
   ]
  },
  {
   "cell_type": "code",
   "execution_count": 16,
   "metadata": {},
   "outputs": [
    {
     "data": {
      "text/html": [
       "<div>\n",
       "<style scoped>\n",
       "    .dataframe tbody tr th:only-of-type {\n",
       "        vertical-align: middle;\n",
       "    }\n",
       "\n",
       "    .dataframe tbody tr th {\n",
       "        vertical-align: top;\n",
       "    }\n",
       "\n",
       "    .dataframe thead th {\n",
       "        text-align: right;\n",
       "    }\n",
       "</style>\n",
       "<table border=\"1\" class=\"dataframe\">\n",
       "  <thead>\n",
       "    <tr style=\"text-align: right;\">\n",
       "      <th></th>\n",
       "      <th>ItemId</th>\n",
       "      <th>CommodityId</th>\n",
       "      <th>SupplierId</th>\n",
       "      <th>Quantity</th>\n",
       "      <th>Quoted_Price</th>\n",
       "      <th>ExtendedPrice</th>\n",
       "      <th>ScaledQuotedPrice</th>\n",
       "      <th>Quality</th>\n",
       "      <th>Timeliness</th>\n",
       "    </tr>\n",
       "  </thead>\n",
       "  <tbody>\n",
       "    <tr>\n",
       "      <th>0</th>\n",
       "      <td>1899326</td>\n",
       "      <td>432118</td>\n",
       "      <td>SUPPLIERRPC04</td>\n",
       "      <td>100</td>\n",
       "      <td>85</td>\n",
       "      <td>850</td>\n",
       "      <td>10.0</td>\n",
       "      <td>5.0</td>\n",
       "      <td>9.0</td>\n",
       "    </tr>\n",
       "    <tr>\n",
       "      <th>1</th>\n",
       "      <td>1899326</td>\n",
       "      <td>432118</td>\n",
       "      <td>SUPPLIERRPC06</td>\n",
       "      <td>100</td>\n",
       "      <td>92</td>\n",
       "      <td>920</td>\n",
       "      <td>3.7</td>\n",
       "      <td>5.0</td>\n",
       "      <td>9.0</td>\n",
       "    </tr>\n",
       "    <tr>\n",
       "      <th>2</th>\n",
       "      <td>1899326</td>\n",
       "      <td>432118</td>\n",
       "      <td>SUPPLIERRPC05</td>\n",
       "      <td>100</td>\n",
       "      <td>95</td>\n",
       "      <td>950</td>\n",
       "      <td>1.0</td>\n",
       "      <td>9.0</td>\n",
       "      <td>6.0</td>\n",
       "    </tr>\n",
       "  </tbody>\n",
       "</table>\n",
       "</div>"
      ],
      "text/plain": [
       "    ItemId  CommodityId     SupplierId  Quantity  Quoted_Price  ExtendedPrice  \\\n",
       "0  1899326       432118  SUPPLIERRPC04       100            85            850   \n",
       "1  1899326       432118  SUPPLIERRPC06       100            92            920   \n",
       "2  1899326       432118  SUPPLIERRPC05       100            95            950   \n",
       "\n",
       "   ScaledQuotedPrice  Quality  Timeliness  \n",
       "0               10.0      5.0         9.0  \n",
       "1                3.7      5.0         9.0  \n",
       "2                1.0      9.0         6.0  "
      ]
     },
     "execution_count": 16,
     "metadata": {},
     "output_type": "execute_result"
    }
   ],
   "source": [
    "bidDetails['ScaledQuotedPrice'] = (10 - bidDetails['ScaledQuotedPrice']) + 1\n",
    "bidDetails"
   ]
  },
  {
   "cell_type": "code",
   "execution_count": 17,
   "metadata": {},
   "outputs": [],
   "source": [
    "bidDetails.to_csv('./output/bidding_supplier_characteristics_prediction.csv')\n"
   ]
  },
  {
   "cell_type": "code",
   "execution_count": null,
   "metadata": {},
   "outputs": [],
   "source": []
  }
 ],
 "metadata": {
  "kernelspec": {
   "display_name": "Python 3.10.7 64-bit",
   "language": "python",
   "name": "python3"
  },
  "language_info": {
   "codemirror_mode": {
    "name": "ipython",
    "version": 3
   },
   "file_extension": ".py",
   "mimetype": "text/x-python",
   "name": "python",
   "nbconvert_exporter": "python",
   "pygments_lexer": "ipython3",
   "version": "3.10.7"
  },
  "orig_nbformat": 4,
  "vscode": {
   "interpreter": {
    "hash": "aee8b7b246df8f9039afb4144a1f6fd8d2ca17a180786b69acc140d282b71a49"
   }
  }
 },
 "nbformat": 4,
 "nbformat_minor": 2
}
