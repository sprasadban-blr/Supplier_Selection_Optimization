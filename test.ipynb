{
 "cells": [
  {
   "cell_type": "code",
   "execution_count": 93,
   "metadata": {},
   "outputs": [],
   "source": [
    "import pandas as pd\n",
    "import pulp as p\n",
    "import random"
   ]
  },
  {
   "cell_type": "code",
   "execution_count": 94,
   "metadata": {},
   "outputs": [
    {
     "data": {
      "text/html": [
       "<div>\n",
       "<style scoped>\n",
       "    .dataframe tbody tr th:only-of-type {\n",
       "        vertical-align: middle;\n",
       "    }\n",
       "\n",
       "    .dataframe tbody tr th {\n",
       "        vertical-align: top;\n",
       "    }\n",
       "\n",
       "    .dataframe thead th {\n",
       "        text-align: right;\n",
       "    }\n",
       "</style>\n",
       "<table border=\"1\" class=\"dataframe\">\n",
       "  <thead>\n",
       "    <tr style=\"text-align: right;\">\n",
       "      <th></th>\n",
       "      <th>university</th>\n",
       "      <th>cost</th>\n",
       "      <th>cost_utility</th>\n",
       "      <th>location</th>\n",
       "      <th>location_utility</th>\n",
       "      <th>rank</th>\n",
       "      <th>rank_utility</th>\n",
       "    </tr>\n",
       "  </thead>\n",
       "  <tbody>\n",
       "    <tr>\n",
       "      <th>0</th>\n",
       "      <td>Univ_A</td>\n",
       "      <td>10000</td>\n",
       "      <td>50</td>\n",
       "      <td>30</td>\n",
       "      <td>90.0</td>\n",
       "      <td>60</td>\n",
       "      <td>70.0</td>\n",
       "    </tr>\n",
       "    <tr>\n",
       "      <th>1</th>\n",
       "      <td>Univ_B</td>\n",
       "      <td>8000</td>\n",
       "      <td>60</td>\n",
       "      <td>150</td>\n",
       "      <td>50.0</td>\n",
       "      <td>50</td>\n",
       "      <td>75.0</td>\n",
       "    </tr>\n",
       "    <tr>\n",
       "      <th>2</th>\n",
       "      <td>Univ_C</td>\n",
       "      <td>15000</td>\n",
       "      <td>25</td>\n",
       "      <td>50</td>\n",
       "      <td>83.5</td>\n",
       "      <td>5</td>\n",
       "      <td>97.5</td>\n",
       "    </tr>\n",
       "    <tr>\n",
       "      <th>3</th>\n",
       "      <td>Univ_D</td>\n",
       "      <td>28000</td>\n",
       "      <td>0</td>\n",
       "      <td>200</td>\n",
       "      <td>30.0</td>\n",
       "      <td>5</td>\n",
       "      <td>97.5</td>\n",
       "    </tr>\n",
       "    <tr>\n",
       "      <th>4</th>\n",
       "      <td>Univ_E</td>\n",
       "      <td>12000</td>\n",
       "      <td>40</td>\n",
       "      <td>350</td>\n",
       "      <td>0.0</td>\n",
       "      <td>60</td>\n",
       "      <td>70.0</td>\n",
       "    </tr>\n",
       "  </tbody>\n",
       "</table>\n",
       "</div>"
      ],
      "text/plain": [
       "  university   cost  cost_utility  location  location_utility  rank  \\\n",
       "0     Univ_A  10000            50        30              90.0    60   \n",
       "1     Univ_B   8000            60       150              50.0    50   \n",
       "2     Univ_C  15000            25        50              83.5     5   \n",
       "3     Univ_D  28000             0       200              30.0     5   \n",
       "4     Univ_E  12000            40       350               0.0    60   \n",
       "\n",
       "   rank_utility  \n",
       "0          70.0  \n",
       "1          75.0  \n",
       "2          97.5  \n",
       "3          97.5  \n",
       "4          70.0  "
      ]
     },
     "execution_count": 94,
     "metadata": {},
     "output_type": "execute_result"
    }
   ],
   "source": [
    "df = pd.read_csv('./test.csv')\n",
    "df"
   ]
  },
  {
   "cell_type": "code",
   "execution_count": 95,
   "metadata": {},
   "outputs": [
    {
     "data": {
      "text/plain": [
       "University_Selection:\n",
       "MAXIMIZE\n",
       "None\n",
       "VARIABLES"
      ]
     },
     "execution_count": 95,
     "metadata": {},
     "output_type": "execute_result"
    }
   ],
   "source": [
    "problem = p.LpProblem(name='University_Selection', sense=p.LpMaximize)\n",
    "problem"
   ]
  },
  {
   "cell_type": "code",
   "execution_count": 96,
   "metadata": {},
   "outputs": [
    {
     "data": {
      "text/plain": [
       "{'Univ_A': _Univ_A,\n",
       " 'Univ_B': _Univ_B,\n",
       " 'Univ_C': _Univ_C,\n",
       " 'Univ_D': _Univ_D,\n",
       " 'Univ_E': _Univ_E}"
      ]
     },
     "execution_count": 96,
     "metadata": {},
     "output_type": "execute_result"
    }
   ],
   "source": [
    "# Decision Variables\n",
    "university = p.LpVariable.dicts(\"\", df['university'], cat='Integer', lowBound=0, upBound=random.randint(0, 20))\n",
    "university"
   ]
  },
  {
   "cell_type": "code",
   "execution_count": 97,
   "metadata": {},
   "outputs": [
    {
     "data": {
      "text/plain": [
       "50*_Univ_A + 60*_Univ_B + 25*_Univ_C + 40*_Univ_E + 0"
      ]
     },
     "execution_count": 97,
     "metadata": {},
     "output_type": "execute_result"
    }
   ],
   "source": [
    "costProblem = p.lpSum(university[df['university'][i]] * df['cost_utility'][i] for i in range(df['university'].count()))\n",
    "costProblem"
   ]
  },
  {
   "cell_type": "code",
   "execution_count": 98,
   "metadata": {},
   "outputs": [
    {
     "data": {
      "text/plain": [
       "90.0*_Univ_A + 50.0*_Univ_B + 83.5*_Univ_C + 30.0*_Univ_D + 0.0"
      ]
     },
     "execution_count": 98,
     "metadata": {},
     "output_type": "execute_result"
    }
   ],
   "source": [
    "locationProblem = p.lpSum(university[df['university'][i]] * df['location_utility'][i] for i in range(df['university'].count()))\n",
    "locationProblem"
   ]
  },
  {
   "cell_type": "code",
   "execution_count": 99,
   "metadata": {},
   "outputs": [
    {
     "data": {
      "text/plain": [
       "70.0*_Univ_A + 75.0*_Univ_B + 97.5*_Univ_C + 97.5*_Univ_D + 70.0*_Univ_E + 0.0"
      ]
     },
     "execution_count": 99,
     "metadata": {},
     "output_type": "execute_result"
    }
   ],
   "source": [
    "rankProblem = p.lpSum(university[df['university'][i]] * df['rank_utility'][i] for i in range(df['university'].count()))\n",
    "rankProblem"
   ]
  },
  {
   "cell_type": "code",
   "execution_count": 100,
   "metadata": {},
   "outputs": [
    {
     "data": {
      "text/plain": [
       "University_Selection:\n",
       "MAXIMIZE\n",
       "57.0*_Univ_A + 62.05*_Univ_B + 43.455*_Univ_C + 20.924999999999997*_Univ_D + 42.5*_Univ_E + 0.0\n",
       "VARIABLES\n",
       "0 <= _Univ_A <= 20 Integer\n",
       "0 <= _Univ_B <= 20 Integer\n",
       "0 <= _Univ_C <= 20 Integer\n",
       "0 <= _Univ_D <= 20 Integer\n",
       "0 <= _Univ_E <= 20 Integer"
      ]
     },
     "execution_count": 100,
     "metadata": {},
     "output_type": "execute_result"
    }
   ],
   "source": [
    "problem += 0.73 * costProblem + 0.08 * locationProblem + 0.19 * rankProblem\n",
    "problem"
   ]
  },
  {
   "cell_type": "code",
   "execution_count": 101,
   "metadata": {},
   "outputs": [
    {
     "data": {
      "text/plain": [
       "University_Selection:\n",
       "MAXIMIZE\n",
       "57.0*_Univ_A + 62.05*_Univ_B + 43.455*_Univ_C + 20.924999999999997*_Univ_D + 42.5*_Univ_E + 0.0\n",
       "SUBJECT TO\n",
       "_C1: _Univ_A + _Univ_B + _Univ_C + _Univ_D + _Univ_E = 35\n",
       "\n",
       "VARIABLES\n",
       "0 <= _Univ_A <= 20 Integer\n",
       "0 <= _Univ_B <= 20 Integer\n",
       "0 <= _Univ_C <= 20 Integer\n",
       "0 <= _Univ_D <= 20 Integer\n",
       "0 <= _Univ_E <= 20 Integer"
      ]
     },
     "execution_count": 101,
     "metadata": {},
     "output_type": "execute_result"
    }
   ],
   "source": [
    "# Constraints\n",
    "problem += p.lpSum(university[df['university'][i]] for i in range(df['university'].count())) == 35\n",
    "problem"
   ]
  },
  {
   "cell_type": "code",
   "execution_count": 102,
   "metadata": {},
   "outputs": [
    {
     "name": "stdout",
     "output_type": "stream",
     "text": [
      "Welcome to the CBC MILP Solver \n",
      "Version: 2.10.3 \n",
      "Build Date: Dec 15 2019 \n",
      "\n",
      "command line - /Library/Frameworks/Python.framework/Versions/3.10/lib/python3.10/site-packages/pulp/apis/../solverdir/cbc/osx/64/cbc /var/folders/t4/204xh5g57vv3c7mjndmh4y7r0000gn/T/c98755aea9554bbc86de01f5803e55fa-pulp.mps max timeMode elapsed branch printingOptions all solution /var/folders/t4/204xh5g57vv3c7mjndmh4y7r0000gn/T/c98755aea9554bbc86de01f5803e55fa-pulp.sol (default strategy 1)\n",
      "At line 2 NAME          MODEL\n",
      "At line 3 ROWS\n",
      "At line 6 COLUMNS\n",
      "At line 27 RHS\n",
      "At line 29 BOUNDS\n",
      "At line 35 ENDATA\n",
      "Problem MODEL has 1 rows, 5 columns and 5 elements\n",
      "Coin0008I MODEL read with 0 errors\n",
      "Option for timeMode changed from cpu to elapsed\n",
      "Continuous objective value is 2096 - 0.00 seconds\n",
      "Cgl0004I processed model has 1 rows, 5 columns (5 integer (0 of which binary)) and 5 elements\n",
      "Cutoff increment increased from 1e-05 to 0.004995\n",
      "Cbc0012I Integer solution of -2096 found by DiveCoefficient after 0 iterations and 0 nodes (0.00 seconds)\n",
      "Cbc0001I Search completed - best objective -2096, took 0 iterations and 0 nodes (0.00 seconds)\n",
      "Cbc0035I Maximum depth 0, 0 variables fixed on reduced cost\n",
      "Cuts at root node changed objective from -2096 to -2096\n",
      "Probing was tried 0 times and created 0 cuts of which 0 were active after adding rounds of cuts (0.000 seconds)\n",
      "Gomory was tried 0 times and created 0 cuts of which 0 were active after adding rounds of cuts (0.000 seconds)\n",
      "Knapsack was tried 0 times and created 0 cuts of which 0 were active after adding rounds of cuts (0.000 seconds)\n",
      "Clique was tried 0 times and created 0 cuts of which 0 were active after adding rounds of cuts (0.000 seconds)\n",
      "MixedIntegerRounding2 was tried 0 times and created 0 cuts of which 0 were active after adding rounds of cuts (0.000 seconds)\n",
      "FlowCover was tried 0 times and created 0 cuts of which 0 were active after adding rounds of cuts (0.000 seconds)\n",
      "TwoMirCuts was tried 0 times and created 0 cuts of which 0 were active after adding rounds of cuts (0.000 seconds)\n",
      "ZeroHalf was tried 0 times and created 0 cuts of which 0 were active after adding rounds of cuts (0.000 seconds)\n",
      "\n",
      "Result - Optimal solution found\n",
      "\n",
      "Objective value:                2096.00000000\n",
      "Enumerated nodes:               0\n",
      "Total iterations:               0\n",
      "Time (CPU seconds):             0.00\n",
      "Time (Wallclock seconds):       0.00\n",
      "\n",
      "Option for printingOptions changed from normal to all\n",
      "Total time (CPU seconds):       0.00   (Wallclock seconds):       0.01\n",
      "\n",
      "Status: Optimal\n",
      "_Univ_A = 15.0\n",
      "_Univ_B = 20.0\n",
      "_Univ_C = 0.0\n",
      "_Univ_D = 0.0\n",
      "_Univ_E = 0.0\n",
      "Total Utility :  2096.0\n",
      "Optimal value for supplier's '['UnivA = 15.0', 'UnivB = 20.0', 'UnivC = 0.0', 'UnivD = 0.0', 'UnivE = 0.0']' and the optimized objective function value is 2096.0\n"
     ]
    }
   ],
   "source": [
    "# Solve problem\n",
    "problem.solve()\n",
    "\n",
    "# Print status\n",
    "status = p.LpStatus[problem.status]\n",
    "print(\"Status:\", status)\n",
    "\n",
    "# Print optimal values of decision variables\n",
    "\n",
    "university = []\n",
    "selectedUniversity = \"\"\n",
    "for v in problem.variables():\n",
    "    print(v.name, \"=\", v.varValue)\n",
    "    university.append(v.name.replace(\"_\", \"\") + \" = \" + str(v.varValue))\n",
    "    if v.varValue is not None and v.varValue > 0:\n",
    "        selectedUniversity = v.name\n",
    "totalUtility = p.value(problem.objective)\n",
    "print(\"Total Utility : \", totalUtility)\n",
    "\n",
    "universitySelected = \"Optimal value for supplier's \" + \"'\" + str(university) + \"' and the optimized objective function value is \" + str(totalUtility)\n",
    "print(universitySelected)"
   ]
  },
  {
   "cell_type": "code",
   "execution_count": null,
   "metadata": {},
   "outputs": [],
   "source": []
  }
 ],
 "metadata": {
  "kernelspec": {
   "display_name": "Python 3.10.7 64-bit",
   "language": "python",
   "name": "python3"
  },
  "language_info": {
   "codemirror_mode": {
    "name": "ipython",
    "version": 3
   },
   "file_extension": ".py",
   "mimetype": "text/x-python",
   "name": "python",
   "nbconvert_exporter": "python",
   "pygments_lexer": "ipython3",
   "version": "3.10.7"
  },
  "orig_nbformat": 4,
  "vscode": {
   "interpreter": {
    "hash": "aee8b7b246df8f9039afb4144a1f6fd8d2ca17a180786b69acc140d282b71a49"
   }
  }
 },
 "nbformat": 4,
 "nbformat_minor": 2
}
